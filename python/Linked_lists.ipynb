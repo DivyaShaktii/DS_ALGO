{
 "cells": [
  {
   "cell_type": "code",
   "execution_count": null,
   "metadata": {},
   "outputs": [],
   "source": [
    "## Define a LinkedList and add below given methods .\n",
    "#0. Print element of linked list\n",
    "#1. Append element  in begning \n",
    "#2. Append element at End \n",
    "#3. Remove First element \n",
    "#4. Remove Last element\n",
    "#5. Reverse elements\n",
    "#6. remove nth element from start\n",
    "#7. Remove nth element from end"
   ]
  },
  {
   "cell_type": "code",
   "execution_count": 19,
   "metadata": {},
   "outputs": [],
   "source": [
    "class Node :\n",
    "    def __init__(self , data = None , next = None):\n",
    "        self.data = data\n",
    "        self.next = None\n",
    "class LinkedList :\n",
    "    def __init__(self):\n",
    "        self.head = None\n",
    "        \n",
    "    def show_list(self):\n",
    "        curr_node = self.head\n",
    "        while curr_node:\n",
    "            print(curr_node.data)\n",
    "            curr_node = curr_node.next\n",
    "    \n",
    "    def append_at_begning(self , data):\n",
    "        new_node = Node(data)\n",
    "        new_node.next = self.head\n",
    "        self.head = new_node\n",
    "        \n",
    "    def append_at_end(self , data):\n",
    "        new_node = Node(data)\n",
    "        curr_node = self.head\n",
    "        if not curr_node :\n",
    "            self.head = new_node\n",
    "        else :\n",
    "            while curr_node.next :\n",
    "                curr_node = curr_node.next\n",
    "            curr_node.next = new_node\n",
    "            \n",
    "    def remove_1st_element(self):\n",
    "        if not self.head:\n",
    "            print(\"Empty LinkedList\")\n",
    "        else:\n",
    "            self.head = self.head.next\n",
    "        \n",
    "    def remove_last_element(self):\n",
    "        if not self.head:\n",
    "            return None\n",
    "        else:\n",
    "            prev = None\n",
    "            curr = self.head\n",
    "            while curr.next :\n",
    "                prev = curr\n",
    "                curr = curr.next\n",
    "            if prev != None :\n",
    "                prev.next = None\n",
    "            else :\n",
    "                self.head = None\n",
    "    \n",
    "    def reverse_ll(self):\n",
    "        curr = self.head\n",
    "        prev = None\n",
    "        while curr :\n",
    "            nxt = curr.next\n",
    "            curr.next = prev\n",
    "            prev = curr\n",
    "            curr = nxt\n",
    "        self.head = prev\n",
    "        \n",
    "    def remove_nth_node_from_start(self ,pos):\n",
    "        #dummy = Node(0 , next = self.head)\n",
    "        prev  = None\n",
    "        curr = self.head\n",
    "        for _ in range(pos):\n",
    "            \n",
    "        "
   ]
  },
  {
   "cell_type": "code",
   "execution_count": 20,
   "metadata": {},
   "outputs": [
    {
     "name": "stdout",
     "output_type": "stream",
     "text": [
      "cc\n",
      "aa\n",
      "bb\n",
      "dd\n"
     ]
    }
   ],
   "source": [
    "ll = LinkedList()\n",
    "ll.append_at_begning(\"aa\")\n",
    "ll.append_at_end(\"bb\") \n",
    "ll.append_at_begning(\"cc\")\n",
    "ll.append_at_end(\"dd\")\n",
    "ll.show_list()"
   ]
  },
  {
   "cell_type": "code",
   "execution_count": 21,
   "metadata": {},
   "outputs": [
    {
     "name": "stdout",
     "output_type": "stream",
     "text": [
      "dd\n",
      "bb\n",
      "aa\n",
      "cc\n"
     ]
    }
   ],
   "source": [
    "ll.reverse_ll()\n",
    "ll.show_list()"
   ]
  },
  {
   "cell_type": "code",
   "execution_count": null,
   "metadata": {},
   "outputs": [],
   "source": []
  },
  {
   "cell_type": "code",
   "execution_count": null,
   "metadata": {},
   "outputs": [],
   "source": []
  },
  {
   "cell_type": "code",
   "execution_count": null,
   "metadata": {},
   "outputs": [],
   "source": []
  },
  {
   "cell_type": "code",
   "execution_count": null,
   "metadata": {},
   "outputs": [],
   "source": []
  },
  {
   "cell_type": "code",
   "execution_count": null,
   "metadata": {},
   "outputs": [],
   "source": []
  },
  {
   "cell_type": "code",
   "execution_count": 5,
   "metadata": {},
   "outputs": [],
   "source": []
  },
  {
   "cell_type": "code",
   "execution_count": null,
   "metadata": {},
   "outputs": [],
   "source": []
  },
  {
   "cell_type": "code",
   "execution_count": null,
   "metadata": {},
   "outputs": [],
   "source": []
  },
  {
   "cell_type": "code",
   "execution_count": null,
   "metadata": {},
   "outputs": [],
   "source": []
  },
  {
   "cell_type": "code",
   "execution_count": null,
   "metadata": {},
   "outputs": [],
   "source": []
  },
  {
   "cell_type": "code",
   "execution_count": null,
   "metadata": {},
   "outputs": [],
   "source": []
  }
 ],
 "metadata": {
  "kernelspec": {
   "display_name": "Python 3",
   "language": "python",
   "name": "python3"
  },
  "language_info": {
   "codemirror_mode": {
    "name": "ipython",
    "version": 3
   },
   "file_extension": ".py",
   "mimetype": "text/x-python",
   "name": "python",
   "nbconvert_exporter": "python",
   "pygments_lexer": "ipython3",
   "version": "3.6.9"
  }
 },
 "nbformat": 4,
 "nbformat_minor": 4
}
