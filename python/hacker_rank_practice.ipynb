{
 "cells": [
  {
   "cell_type": "code",
   "execution_count": 8,
   "metadata": {},
   "outputs": [],
   "source": [
    "def is_leap(year):\n",
    "    leap = False\n",
    "    if (leap % 4) == 0 :\n",
    "        leap = True\n",
    "        if (leap %100 == 0)&(leap % 400 != 0):\n",
    "            leap = False\n",
    "        \n",
    "    return leap\n"
   ]
  },
  {
   "cell_type": "code",
   "execution_count": 9,
   "metadata": {},
   "outputs": [
    {
     "data": {
      "text/plain": [
       "True"
      ]
     },
     "execution_count": 9,
     "metadata": {},
     "output_type": "execute_result"
    }
   ],
   "source": [
    "is_leap(1990)"
   ]
  },
  {
   "cell_type": "code",
   "execution_count": 7,
   "metadata": {},
   "outputs": [
    {
     "data": {
      "text/plain": [
       "Coord: {'x': 400, 'y': 400}"
      ]
     },
     "execution_count": 7,
     "metadata": {},
     "output_type": "execute_result"
    }
   ],
   "source": [
    "class Coordinate():\n",
    "    def __init__(self , x, y ):\n",
    "        self.x = x\n",
    "        self.y = y\n",
    "    def __repr__(self):\n",
    "        return \"Coord: \" + str(self.__dict__)\n",
    "    \n",
    "def add(a,b):\n",
    "    return Coordinate(a.x + b.x , a.y + b.y)\n",
    "\n",
    "def sub(a,b):\n",
    "    return Coordinate(a.x - b.x, a.y - b.y)\n",
    "\n",
    "one = Coordinate(100, 200)\n",
    "two = Coordinate(300, 200)\n",
    "add(one, two)"
   ]
  },
  {
   "cell_type": "code",
   "execution_count": null,
   "metadata": {},
   "outputs": [],
   "source": []
  },
  {
   "cell_type": "code",
   "execution_count": 25,
   "metadata": {},
   "outputs": [
    {
     "name": "stdout",
     "output_type": "stream",
     "text": [
      "3\n",
      "Shekhar boss 42 M\n",
      "sikha msnsh 22 F\n",
      "subnam hjhg 32 F\n",
      "Ms. sikha msnsh\n",
      "Ms. subnam hjhg\n",
      "Mr. Shekhar boss\n"
     ]
    }
   ],
   "source": [
    "def person_lister(f):\n",
    "    def inner(people):\n",
    "        return map(f,sorted(people, key=  lambda x: x[2]))\n",
    "    return inner\n",
    "\n",
    "@person_lister\n",
    "def name_format(person):\n",
    "    return (\"Mr. \" if person[3] == \"M\" else \"Ms. \") + person[0] + \" \" + person[1]\n",
    "\n",
    "if __name__ == '__main__':\n",
    "    people = [input().split() for i in range(int(input()))]\n",
    "    print(*name_format(people), sep='\\n')"
   ]
  },
  {
   "cell_type": "code",
   "execution_count": 36,
   "metadata": {},
   "outputs": [
    {
     "name": "stdout",
     "output_type": "stream",
     "text": [
      "88.00\n"
     ]
    }
   ],
   "source": [
    "\n",
    "y = 88.00\n",
    "print(\"{:.2f}\".format(y))"
   ]
  },
  {
   "cell_type": "code",
   "execution_count": null,
   "metadata": {},
   "outputs": [],
   "source": [
    "{.2f}.format(marks)"
   ]
  }
 ],
 "metadata": {
  "kernelspec": {
   "display_name": "Python 3",
   "language": "python",
   "name": "python3"
  },
  "language_info": {
   "codemirror_mode": {
    "name": "ipython",
    "version": 3
   },
   "file_extension": ".py",
   "mimetype": "text/x-python",
   "name": "python",
   "nbconvert_exporter": "python",
   "pygments_lexer": "ipython3",
   "version": "3.6.9"
  }
 },
 "nbformat": 4,
 "nbformat_minor": 4
}
