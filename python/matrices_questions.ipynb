{
 "cells": [
  {
   "cell_type": "code",
   "execution_count": 26,
   "metadata": {},
   "outputs": [
    {
     "name": "stdout",
     "output_type": "stream",
     "text": [
      "======================Matrix=======================\n",
      "[1, 0, 3]\n",
      "True\n",
      "output Matrix\n",
      "======================Matrix=======================\n",
      "[0, 0, 0]\n"
     ]
    }
   ],
   "source": [
    "# https://leetcode.com/problems/set-matrix-zeroes/description/\n",
    "# Q. Given an m x n integer matrix matrix, if an element is 0, set its entire row and column to 0's.\n",
    "\n",
    "#Input: matrix = [[1,1,1],[1,0,1],[1,1,1]]\n",
    "#Output: [[1,0,1],[0,0,0],[1,0,1]]\n",
    "\n",
    "def matrixPrint(mat):\n",
    "    print(\"======================Matrix=======================\")\n",
    "    for X in mat:\n",
    "        print(X)\n",
    "        \n",
    "input_matrix = [[1,0,3]]\n",
    "\n",
    "def SetZeroMatix(matrix):\n",
    "    matrixPrint(matrix)\n",
    "    numRows = len(matrix)\n",
    "    numCols = len(matrix[0])\n",
    "    FirstRow = False\n",
    "    FirstCol = False\n",
    "\n",
    "    for row in range(numRows):\n",
    "        if matrix[row][0] == 0 :\n",
    "            FirstCol = True\n",
    "    for col in range(numCols) :\n",
    "        if matrix[0][col] == 0 :\n",
    "            FirstRow = True\n",
    "\n",
    "    for row in range(1 ,numRows ):\n",
    "        for col in range(numCols):\n",
    "            if matrix[row][col] == 0 :\n",
    "                matrix[0][col] = 0\n",
    "\n",
    "    for col in range(1 , numCols):\n",
    "        for row in range(1 , numRows):\n",
    "            if matrix[row][col] == 0 :\n",
    "                matrix[row][0] = 0\n",
    "\n",
    "\n",
    "    for row in range (1,numRows) :\n",
    "        if matrix[row][0] == 0 :\n",
    "            matrix[row] = [0]*numCols\n",
    "\n",
    "    for col in range(numCols):\n",
    "        if matrix[0][col] == 0 :\n",
    "            for row in range(numRows) :\n",
    "                matrix[row][col] = 0\n",
    "    print(FirstRow)\n",
    "    if FirstRow :\n",
    "        matrix[0] = [0]*numCols\n",
    "\n",
    "    if FirstCol :\n",
    "        for row in range(numRows):\n",
    "            matrix[row][0] = 0\n",
    "\n",
    "\n",
    "    print(\"output Matrix\")\n",
    "    matrixPrint(matrix)\n",
    "    \n",
    "    return\n",
    "\n",
    "SetZeroMatix(input_matrix)"
   ]
  },
  {
   "cell_type": "code",
   "execution_count": null,
   "metadata": {},
   "outputs": [],
   "source": []
  },
  {
   "cell_type": "code",
   "execution_count": 1,
   "metadata": {},
   "outputs": [
    {
     "data": {
      "text/plain": [
       "[[1, 1, 1], [1, 0, 1], [1, 1, 1]]"
      ]
     },
     "execution_count": 1,
     "metadata": {},
     "output_type": "execute_result"
    }
   ],
   "source": [
    "[[1,1,1],[1,0,1],[1,1,1]]"
   ]
  },
  {
   "cell_type": "code",
   "execution_count": null,
   "metadata": {},
   "outputs": [],
   "source": []
  },
  {
   "cell_type": "code",
   "execution_count": null,
   "metadata": {},
   "outputs": [],
   "source": [
    "# M.Q1\n",
    "# Spiral traversal of metrics\n",
    "\n",
    "# input R = 4, C = 4\n",
    "### \n",
    "# Output: \n",
    "# 1 2 3 4 8 12 16 15 14 13 9 5 6 7 11 10"
   ]
  },
  {
   "cell_type": "code",
   "execution_count": 15,
   "metadata": {},
   "outputs": [],
   "source": [
    "def spiralOrder( matrix):\n",
    "    start_row = 0\n",
    "    end_row = len(matrix) -1 \n",
    "    start_col = 0\n",
    "    end_col = len(matrix[0])-1 \n",
    "    result  = []\n",
    "    while (start_row <= end_row and start_col <= end_col):\n",
    "        for i in range(start_col , end_col + 1):\n",
    "            result.append(matrix[start_row][i])\n",
    "        start_row = start_row + 1\n",
    "        for i in range(start_row , end_row+1):\n",
    "            result.append(matrix[i][end_col])\n",
    "        end_col = end_col -1\n",
    "        if start_row <= end_row  :\n",
    "            for i in range(end_col ,start_col-1 ,-1):\n",
    "                result.append(matrix[end_row][i])\n",
    "            end_row = end_row -1\n",
    "        if start_col <= end_col:\n",
    "            for i in range(end_row , start_row -1 , -1):\n",
    "                result.append(matrix[i][start_col])\n",
    "            start_col = start_col+1\n",
    "    return result\n",
    "\n",
    "array = [[\"a\", \"b\" ,  \"c\"  , \"d\" , \"3\"] ,\n",
    "         [\"e\",  \"f\",  \"g\"  , \"h\" ,\"4\" ],\n",
    "         [\"i\",  \"j\" , \"k\"  , \"l\" ,\"5\"],\n",
    "         [\"m\" , \"n\" , \"o\"  , \"p\" ,\"6\"],\n",
    "         [\"q\" , \"r\" , \"s\"  , \"t\" ,\"7\"]]\n",
    "spiralOrder(array)"
   ]
  },
  {
   "cell_type": "code",
   "execution_count": null,
   "metadata": {},
   "outputs": [],
   "source": [
    "# USING RECURSION METHOD"
   ]
  },
  {
   "cell_type": "code",
   "execution_count": 24,
   "metadata": {},
   "outputs": [],
   "source": [
    "def spiralPrint(a ):\n",
    "    matRow = len(a)\n",
    "    matCol = len(a[0])\n",
    "    \n",
    "    for i in range(0, matCol):\n",
    "        print(a[0][i] , end =\" \"),\n",
    "    \n",
    "    for i in range(1, matRow):\n",
    "        print(a[i][matCol - 1]   , end =\" \"),\n",
    "\n",
    "    if matRow > 1:\n",
    "        for i in range(matCol - 2, -1, -1):\n",
    "            print(a[matRow - 1][i] ,   end =\" \"),\n",
    "    \n",
    "    for i in range(matRow - 2, 0, -1):\n",
    "        print(a[i][0]   , end =\" \"),\n",
    "    remainMat = [row[1 : matCol - 1] for row in a[1 : matRow - 1]]\n",
    "    if len(remainMat) > 0:\n",
    "        spiralPrint(remainMat)\n",
    "    else:\n",
    "        return"
   ]
  },
  {
   "cell_type": "code",
   "execution_count": 26,
   "metadata": {},
   "outputs": [
    {
     "name": "stdout",
     "output_type": "stream",
     "text": [
      "a b c d 3 4 5 6 7 t s r q m i e f g h l p o n j k "
     ]
    }
   ],
   "source": [
    "array = [[\"a\", \"b\" ,  \"c\"  , \"d\" , \"3\"] ,\n",
    "         [\"e\",  \"f\",  \"g\"  , \"h\" , \"4\"] ,\n",
    "         [\"i\",  \"j\" , \"k\"  , \"l\" , \"5\"] ,\n",
    "         [\"m\" , \"n\" , \"o\"  , \"p\" , \"6\"] ,\n",
    "         [\"q\" , \"r\" , \"s\"  , \"t\" , \"7\"]]\n",
    "spiralPrint(array)"
   ]
  },
  {
   "cell_type": "code",
   "execution_count": null,
   "metadata": {},
   "outputs": [],
   "source": [
    "# M.Q2\n",
    "###Given a square matrix, turn it by 90 degrees in clockwise direction without using any extra space.\n",
    "\n",
    "# Input:\n",
    "# 1 2 3 \n",
    "# 4 5 6\n",
    "# 7 8 9  \n",
    "\n",
    "# Output:\n",
    "# 7 4 1 \n",
    "# 8 5 2\n",
    "# 9 6 3"
   ]
  },
  {
   "cell_type": "code",
   "execution_count": 1,
   "metadata": {},
   "outputs": [
    {
     "data": {
      "text/plain": [
       "[[0, 0, 0], [0, 0, 0], [0, 0, 0], [0, 0, 0]]"
      ]
     },
     "execution_count": 1,
     "metadata": {},
     "output_type": "execute_result"
    }
   ],
   "source": [
    "# M. Q3 Given an n x n matrix mat[n][n] of integers, find the maximum value of mat(c, d) – mat(a, b) over \n",
    "## all choices of indexes such that both c > a and d > b.\n",
    "\n",
    "# Example:\n",
    "\n",
    "# Input:\n",
    "# mat =       [[  1,  2, -1, -4, -20 ],\n",
    "#              [ -8, -3,  4,  2,  1 ], \n",
    "#              [  3,  8,  6,  1,  3 ],\n",
    "#              [ -4, -1,  1,  7, -6 ],\n",
    "#              [  0, -4,  10, -5, 1 ]];\n",
    "# Output: 18\n",
    "# The maximum value is 18 as mat[4][2] - mat[1][0] = 18 has maximum difference. "
   ]
  },
  {
   "cell_type": "code",
   "execution_count": null,
   "metadata": {},
   "outputs": [],
   "source": [
    "\n",
    "def findMaxValue(mat): \n",
    "    \n",
    "    maxValue =- 999\n",
    "  \n",
    "    maxArr = [[0 for x in range(N)] for y in range(N)] \n",
    "  \n",
    "    maxArr[N - 1][N - 1] = mat[N - 1][N - 1] \n",
    "  \n",
    "    # preprocess last row \n",
    "    maxv = mat[N - 1][N - 1]\n",
    "    for j in range(N - 2, -1, -1): \n",
    "      \n",
    "        if (mat[N - 1][j] > maxv): \n",
    "            maxv = mat[N - 1][j] \n",
    "        maxArr[N - 1][j] = maxv \n",
    "      \n",
    "    # preprocess last column \n",
    "    maxv = mat[N - 1][N - 1] # Initialize max \n",
    "    for i in range (N - 2, -1, -1): \n",
    "      \n",
    "        if (mat[i][N - 1] > maxv): \n",
    "            maxv = mat[i][N - 1] \n",
    "        maxArr[i][N - 1] = maxv \n",
    "  \n",
    "    # preprocess rest of the matrix \n",
    "    # from bottom \n",
    "    for i in range (N - 2, -1, -1): \n",
    "      \n",
    "        for j in range (N - 2, -1, -1): \n",
    "          \n",
    "            # Update maxValue \n",
    "            if (maxArr[i + 1][j + 1] -\n",
    "                mat[i][j] > maxValue): \n",
    "                maxValue = (maxArr[i + 1][j + 1] - mat[i][j]) \n",
    "  \n",
    "            # set maxArr (i, j) \n",
    "            maxArr[i][j] = max(mat[i][j],  max(maxArr[i][j + 1], maxArr[i + 1][j])) \n",
    "          \n",
    "    return maxValue "
   ]
  },
  {
   "cell_type": "code",
   "execution_count": 25,
   "metadata": {},
   "outputs": [],
   "source": [
    "mat =[[  1,  2, -1, -4, -20 ],\n",
    "      [ -8, -3,  4,  2,  1  ], \n",
    "      [  3,  8,  6,  1,  3  ],\n",
    "      [ -4, -1,  1,  7, -6  ],\n",
    "      [  0, -4,  10, -5, 1  ]];\n",
    "\n",
    "max_val = -999\n",
    "\n",
    "max_arr = [[  0,  0,  0,  0,  3  ],\n",
    "           [  0,  0,  0,  0,  3  ], \n",
    "           [  0,  0,  0,  0,  3  ],\n",
    "           [  0,  0,  0,  0,  1  ],\n",
    "           [ 10,  10, 10, 1,  1  ]];"
   ]
  },
  {
   "cell_type": "code",
   "execution_count": null,
   "metadata": {},
   "outputs": [],
   "source": [
    "3 --> 3 , 2, 1 0\n",
    "  1 - (7 ) = -6 > max_val\n",
    "    max_val = -6\n",
    "    mat[3,3] = 7 > max(max_arr[3,4])\n",
    "    \n",
    "2 --> 3 , 2, 1 0\n",
    "1 --> 3 , 2, 1 0\n",
    "0 --> 3 , 2, 1 0"
   ]
  },
  {
   "cell_type": "code",
   "execution_count": null,
   "metadata": {},
   "outputs": [],
   "source": []
  }
 ],
 "metadata": {
  "kernelspec": {
   "display_name": "Python 3",
   "language": "python",
   "name": "python3"
  },
  "language_info": {
   "codemirror_mode": {
    "name": "ipython",
    "version": 3
   },
   "file_extension": ".py",
   "mimetype": "text/x-python",
   "name": "python",
   "nbconvert_exporter": "python",
   "pygments_lexer": "ipython3",
   "version": "3.6.9"
  }
 },
 "nbformat": 4,
 "nbformat_minor": 4
}
