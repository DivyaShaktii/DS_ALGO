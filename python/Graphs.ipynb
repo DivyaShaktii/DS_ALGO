{
 "cells": [
  {
   "cell_type": "code",
   "execution_count": 11,
   "metadata": {},
   "outputs": [],
   "source": [
    "class Graph :\n",
    "    def __init__(self , edges) :\n",
    "        self.edges = edges\n",
    "        self.graph_dict = {}\n",
    "        for start, end  in self.edges :\n",
    "            if start in self.graph_dict:\n",
    "                self.graph_dict[start].append(end)\n",
    "            else :\n",
    "                self.graph_dict[start] = [end]\n",
    "    \n",
    "    def get_paths(self, start, end, path=[]):\n",
    "        path = path + [start]\n",
    "\n",
    "        if start == end:\n",
    "            return [path]\n",
    "\n",
    "        if start not in self.graph_dict:\n",
    "            return []\n",
    "\n",
    "        paths = []\n",
    "        for node in self.graph_dict[start]:\n",
    "            if node not in path:\n",
    "                new_paths = self.get_paths(node, end, path)\n",
    "                for p in new_paths:\n",
    "                    paths.append(p)\n",
    "\n",
    "        return paths"
   ]
  },
  {
   "cell_type": "code",
   "execution_count": 12,
   "metadata": {},
   "outputs": [],
   "source": [
    "routes = [\n",
    "        (\"Mumbai\",\"Pune\"),\n",
    "        (\"Mumbai\", \"Surat\"),\n",
    "        (\"Surat\", \"Bangaluru\"),\n",
    "        (\"Pune\",\"Hyderabad\"),\n",
    "        (\"Pune\",\"Mysuru\"),\n",
    "        (\"Hyderabad\",\"Bangaluru\"),\n",
    "        (\"Hyderabad\", \"Chennai\"),\n",
    "        (\"Mysuru\", \"Bangaluru\"),\n",
    "        (\"Chennai\", \"Bangaluru\")\n",
    "    ]\n",
    "\n",
    "gt_graph = Graph(routes)\n"
   ]
  },
  {
   "cell_type": "code",
   "execution_count": 13,
   "metadata": {},
   "outputs": [
    {
     "data": {
      "text/plain": [
       "['Mumbai', 'Pune', 'Hyderabad', 'Chennai']"
      ]
     },
     "execution_count": 13,
     "metadata": {},
     "output_type": "execute_result"
    }
   ],
   "source": [
    "start = \"Mumbai\"\n",
    "end = \"Chennai\"\n",
    "gt_graph.get_paths(start , end)"
   ]
  },
  {
   "cell_type": "code",
   "execution_count": null,
   "metadata": {},
   "outputs": [],
   "source": [
    "\n",
    "\n",
    "    def get_paths(self, start, end, path=[]):\n",
    "        path = path + [start]\n",
    "\n",
    "        if start == end:\n",
    "            return [path]\n",
    "\n",
    "        if start not in self.graph_dict:\n",
    "            return []\n",
    "\n",
    "        paths = []\n",
    "        for node in self.graph_dict[start]:\n",
    "            if node not in path:\n",
    "                new_paths = self.get_paths(node, end, path)\n",
    "                for p in new_paths:\n",
    "                    paths.append(p)\n",
    "\n",
    "        return paths\n",
    "\n",
    "    def get_shortest_path(self, start, end, path=[]):\n",
    "        path = path + [start]\n",
    "\n",
    "        if start == end:\n",
    "            return path\n",
    "\n",
    "        if start not in self.graph_dict:\n",
    "            return None\n",
    "\n",
    "        shortest_path = None\n",
    "        for node in self.graph_dict[start]:\n",
    "            if node not in path:\n",
    "                sp = self.get_shortest_path(node, end, path)\n",
    "                if sp:\n",
    "                    if shortest_path is None or len(sp) < len(shortest_path):\n",
    "                        shortest_path = sp\n",
    "\n",
    "        return shortest_path\n",
    "\n",
    "if __name__ == '__main__':\n",
    "\n",
    "    routes = [\n",
    "        (\"Mumbai\",\"Pune\"),\n",
    "        (\"Mumbai\", \"Surat\"),\n",
    "        (\"Surat\", \"Bangaluru\"),\n",
    "        (\"Pune\",\"Hyderabad\"),\n",
    "        (\"Pune\",\"Mysuru\"),\n",
    "        (\"Hyderabad\",\"Bangaluru\"),\n",
    "        (\"Hyderabad\", \"Chennai\"),\n",
    "        (\"Mysuru\", \"Bangaluru\"),\n",
    "        (\"Chennai\", \"Bangaluru\")\n",
    "    ]\n",
    "\n",
    "    routes = [\n",
    "        (\"Mumbai\", \"Paris\"),\n",
    "        (\"Mumbai\", \"Dubai\"),\n",
    "        (\"Paris\", \"Dubai\"),\n",
    "        (\"Paris\", \"New York\"),\n",
    "        (\"Dubai\", \"New York\"),\n",
    "        (\"New York\", \"Toronto\"),\n",
    "    ]\n",
    "\n",
    "    route_graph = Graph(routes)\n",
    "\n",
    "    start = \"Mumbai\"\n",
    "    end = \"New York\"\n",
    "\n",
    "    print(f\"All paths between: {start} and {end}: \",route_graph.get_paths(start,end))\n",
    "    print(f\"Shortest path between {start} and {end}: \", route_graph.get_shortest_path(start,end))\n",
    "\n",
    "    start = \"Dubai\"\n",
    "    end = \"New York\"\n",
    "\n",
    "    print(f\"All paths between: {start} and {end}: \",route_graph.get_paths(start,end))\n",
    "    print(f\"Shortest path between {start} and {end}: \", route_graph.get_shortest_path(start,end))"
   ]
  }
 ],
 "metadata": {
  "kernelspec": {
   "display_name": "Python 3",
   "language": "python",
   "name": "python3"
  },
  "language_info": {
   "codemirror_mode": {
    "name": "ipython",
    "version": 3
   },
   "file_extension": ".py",
   "mimetype": "text/x-python",
   "name": "python",
   "nbconvert_exporter": "python",
   "pygments_lexer": "ipython3",
   "version": "3.6.9"
  }
 },
 "nbformat": 4,
 "nbformat_minor": 4
}
