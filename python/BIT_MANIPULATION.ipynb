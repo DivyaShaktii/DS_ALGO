{
 "cells": [
  {
   "cell_type": "code",
   "execution_count": null,
   "metadata": {},
   "outputs": [],
   "source": [
    "# Q1. Count set BIT in given number\n",
    "# if input is 25 , bin(25) = 0b11001 so output = 3"
   ]
  },
  {
   "cell_type": "code",
   "execution_count": 16,
   "metadata": {},
   "outputs": [],
   "source": [
    "def count_set_bit(num):\n",
    "    #\n",
    "    set_bit = 0\n",
    "    while num :\n",
    "        if num & 1 :\n",
    "            set_bit = set_bit + 1\n",
    "        num = num >> 1\n",
    "    return set_bit\n",
    "            "
   ]
  },
  {
   "cell_type": "code",
   "execution_count": 21,
   "metadata": {},
   "outputs": [],
   "source": [
    "def count_set(n):\n",
    "    count = 0 \n",
    "    while n :\n",
    "        n = n&n-1\n",
    "        count +=  1\n",
    "    return count"
   ]
  },
  {
   "cell_type": "code",
   "execution_count": 36,
   "metadata": {},
   "outputs": [],
   "source": [
    "# recursive method\n",
    "def countSetBits( n):\n",
    "\n",
    "    if (n == 0):\n",
    "        return 0\n",
    "  \n",
    "    else:\n",
    "        return (n & 1) + countSetBits(n >> 1)"
   ]
  },
  {
   "cell_type": "code",
   "execution_count": null,
   "metadata": {},
   "outputs": [],
   "source": [
    "# Q2. Find unique element in an array of repeating elements.\n",
    "# input = [1,2,5,2,1,7,5]\n",
    "# output = 7"
   ]
  },
  {
   "cell_type": "code",
   "execution_count": 44,
   "metadata": {},
   "outputs": [],
   "source": [
    "def find_single(array):\n",
    "    res = array[0]\n",
    "    for ele in array[1:]:\n",
    "        res = res ^ ele\n",
    "    return res\n",
    "    "
   ]
  },
  {
   "cell_type": "code",
   "execution_count": 45,
   "metadata": {},
   "outputs": [
    {
     "data": {
      "text/plain": [
       "7"
      ]
     },
     "execution_count": 45,
     "metadata": {},
     "output_type": "execute_result"
    }
   ],
   "source": [
    "# Q3. Count number of bits to be flipped to convert A to B\n",
    "# Input A= 3 , B = 16  Output = 3\n",
    "# as bin(3)   = 11 can be written as 00011\n",
    "# and bin(16) = 10000 so we can see difference in (00011 and 10000) is of 3 bits "
   ]
  },
  {
   "cell_type": "code",
   "execution_count": 48,
   "metadata": {},
   "outputs": [
    {
     "data": {
      "text/plain": [
       "19"
      ]
     },
     "execution_count": 48,
     "metadata": {},
     "output_type": "execute_result"
    }
   ],
   "source": [
    "3 ^ 16"
   ]
  },
  {
   "cell_type": "code",
   "execution_count": 51,
   "metadata": {},
   "outputs": [
    {
     "data": {
      "text/plain": [
       "'0b11'"
      ]
     },
     "execution_count": 51,
     "metadata": {},
     "output_type": "execute_result"
    }
   ],
   "source": [
    "bin(12 ^ 15)"
   ]
  },
  {
   "cell_type": "code",
   "execution_count": 52,
   "metadata": {},
   "outputs": [
    {
     "data": {
      "text/plain": [
       "('0b1100', '0b1111')"
      ]
     },
     "execution_count": 52,
     "metadata": {},
     "output_type": "execute_result"
    }
   ],
   "source": [
    "bin(12) , bin(15)"
   ]
  },
  {
   "cell_type": "code",
   "execution_count": 79,
   "metadata": {},
   "outputs": [],
   "source": [
    "def AllPossibleStrings( s):\n",
    "    ans = []\n",
    "    n = len(s)\n",
    "    total = 1<<n\n",
    "    for i in range(1, total):\n",
    "        temp = \"\"\n",
    "        for j in range(n):\n",
    "            if i & 1<<j:\n",
    "                temp += s[j]\n",
    "        ans.append(temp)\n",
    "        print(temp)\n",
    "    ans.sort()\n",
    "    return ans"
   ]
  },
  {
   "cell_type": "code",
   "execution_count": 77,
   "metadata": {},
   "outputs": [
    {
     "data": {
      "text/plain": [
       "2"
      ]
     },
     "execution_count": 77,
     "metadata": {},
     "output_type": "execute_result"
    }
   ],
   "source": []
  },
  {
   "cell_type": "code",
   "execution_count": 74,
   "metadata": {},
   "outputs": [
    {
     "data": {
      "text/plain": [
       "32"
      ]
     },
     "execution_count": 74,
     "metadata": {},
     "output_type": "execute_result"
    }
   ],
   "source": [
    "# a   -> a\n",
    "# ab  -> a , b , ab\n",
    "# abc -> a , b, c, ab, bc ,ac , abc\n",
    "1<<5"
   ]
  },
  {
   "cell_type": "code",
   "execution_count": 81,
   "metadata": {},
   "outputs": [
    {
     "name": "stdout",
     "output_type": "stream",
     "text": [
      "a\n",
      "b\n",
      "ab\n",
      "c\n",
      "ac\n",
      "bc\n",
      "abc\n",
      "d\n",
      "ad\n",
      "bd\n",
      "abd\n",
      "cd\n",
      "acd\n",
      "bcd\n",
      "abcd\n"
     ]
    },
    {
     "data": {
      "text/plain": [
       "['a',\n",
       " 'ab',\n",
       " 'abc',\n",
       " 'abcd',\n",
       " 'abd',\n",
       " 'ac',\n",
       " 'acd',\n",
       " 'ad',\n",
       " 'b',\n",
       " 'bc',\n",
       " 'bcd',\n",
       " 'bd',\n",
       " 'c',\n",
       " 'cd',\n",
       " 'd']"
      ]
     },
     "execution_count": 81,
     "metadata": {},
     "output_type": "execute_result"
    }
   ],
   "source": [
    "AllPossibleStrings(\"abcd\")"
   ]
  },
  {
   "cell_type": "code",
   "execution_count": null,
   "metadata": {},
   "outputs": [],
   "source": []
  },
  {
   "cell_type": "code",
   "execution_count": 64,
   "metadata": {},
   "outputs": [],
   "source": [
    "import pandas as pd"
   ]
  },
  {
   "cell_type": "code",
   "execution_count": null,
   "metadata": {},
   "outputs": [],
   "source": []
  },
  {
   "cell_type": "code",
   "execution_count": null,
   "metadata": {},
   "outputs": [],
   "source": []
  },
  {
   "cell_type": "code",
   "execution_count": null,
   "metadata": {},
   "outputs": [],
   "source": []
  },
  {
   "cell_type": "code",
   "execution_count": null,
   "metadata": {},
   "outputs": [],
   "source": []
  },
  {
   "cell_type": "code",
   "execution_count": null,
   "metadata": {},
   "outputs": [],
   "source": []
  }
 ],
 "metadata": {
  "kernelspec": {
   "display_name": "Python 3",
   "language": "python",
   "name": "python3"
  },
  "language_info": {
   "codemirror_mode": {
    "name": "ipython",
    "version": 3
   },
   "file_extension": ".py",
   "mimetype": "text/x-python",
   "name": "python",
   "nbconvert_exporter": "python",
   "pygments_lexer": "ipython3",
   "version": "3.6.9"
  }
 },
 "nbformat": 4,
 "nbformat_minor": 4
}
