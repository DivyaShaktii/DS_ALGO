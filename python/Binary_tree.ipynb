{
 "cells": [
  {
   "cell_type": "code",
   "execution_count": 29,
   "metadata": {},
   "outputs": [],
   "source": [
    "class Node:\n",
    "    def __init__(self , data =None):\n",
    "        self.data = data\n",
    "        self.left = None \n",
    "        self.right = None\n",
    "        \n",
    "class BinaryTree :\n",
    "    def __init__(self , root):\n",
    "        self.root = Node(root)\n",
    "        \n",
    "    def Preorder_Print(self , start , traversal):\n",
    "        \"\"\"Root -> Left -> Right \"\"\"\n",
    "        if start :\n",
    "            traversal = traversal + (str(start.data)+ \"-\")\n",
    "            traversal = self.Preorder_Print(start.left , traversal)\n",
    "            traversal = self.Preorder_Print(start.right , traversal)\n",
    "        return traversal\n",
    "\n",
    "    def Inorder_Print(self , start , traversal):\n",
    "        \"\"\" Left ->  Root -> Right \"\"\"\n",
    "        if start :\n",
    "            traversal = self.Inorder_Print(start.left , traversal)\n",
    "            traversal = traversal + (str(start.data)+ \"-\")\n",
    "            traversal = self.Inorder_Print(start.right , traversal)\n",
    "        return traversal\n",
    "    \n",
    "    def Postorder_Print(self , start , traversal):\n",
    "        \"\"\" Left  -> Right ->  Root\"\"\"\n",
    "        if start :\n",
    "            traversal = self.Postorder_Print(start.left , traversal)\n",
    "            traversal = self.Postorder_Print(start.right , traversal)\n",
    "            traversal = traversal + (str(start.data)+ \"-\")\n",
    "            \n",
    "        return traversal\n",
    "    \n",
    "#          1\n",
    "#       /     \\\n",
    "#     2        3\n",
    "#   /   \\    /   \\\n",
    "#  4    5   6    7\n",
    "\n",
    "# Pre_order Traversal  : 1-2-4-5-3-6-7\n",
    "# In_order  Traversal  : 4-2-5-1-6-3-7\n",
    "# Post_order Traversal : 4-5-2-6-7-3-1"
   ]
  },
  {
   "cell_type": "code",
   "execution_count": null,
   "metadata": {},
   "outputs": [],
   "source": []
  },
  {
   "cell_type": "code",
   "execution_count": 30,
   "metadata": {},
   "outputs": [],
   "source": [
    "bt = BinaryTree(1)\n",
    "bt.root.left = Node(2)\n",
    "bt.root.right = Node(3)\n",
    "bt.root.left.left = Node(4)\n",
    "bt.root.left.right = Node(5)\n",
    "bt.root.right.left = Node(6)\n",
    "bt.root.right.right = Node(7)"
   ]
  },
  {
   "cell_type": "code",
   "execution_count": 31,
   "metadata": {},
   "outputs": [
    {
     "name": "stdout",
     "output_type": "stream",
     "text": [
      "4-5-2-6-7-3-1-\n",
      "4-2-5-1-6-3-7-\n",
      "1-2-4-5-3-6-7-\n"
     ]
    }
   ],
   "source": [
    "print(bt.Postorder_Print(bt.root , \"\"))\n",
    "print(bt.Inorder_Print(bt.root , \"\"))\n",
    "print(bt.Preorder_Print(bt.root , \"\"))"
   ]
  },
  {
   "cell_type": "code",
   "execution_count": 20,
   "metadata": {},
   "outputs": [],
   "source": [
    "class Node :\n",
    "    def __init__(self , data):\n",
    "        self.data = data\n",
    "        self.left = None\n",
    "        self.right = None\n",
    "\n",
    "class BinaryTree :\n",
    "    def __init__(self , root):\n",
    "        self.root = Node(root)\n",
    "    \n",
    "    def In_order_traversal(self , start , res):\n",
    "        if start :\n",
    "            res = self.In_order_traversal(start.left , res)\n",
    "            res = res + str(start.data) + \"_\"\n",
    "            res = self.In_order_traversal(start.right, res)\n",
    "        return res\n",
    "    \n",
    "    def Pre_oredr_Traversal(self , start , res):\n",
    "        if start :\n",
    "            res = res + str(start.data)+\"-\"\n",
    "            res = self.Pre_oredr_Traversal(start.left , res)\n",
    "            res = self.Pre_oredr_Traversal(start.right , res)\n",
    "        return res\n",
    "    \n",
    "    def Height(self , root):\n",
    "        if root is None :\n",
    "            return 0\n",
    "        else :\n",
    "            l_height = self.Height(root.left)\n",
    "            r_height = self.Height(root.right)\n",
    "            return 1 + max(l_height , r_height)\n",
    "        \n",
    "    def Diameter(self , root):\n",
    "        if root is None :\n",
    "            return 0\n",
    "        else :\n",
    "            l_height  = self.Height(root.left)\n",
    "            r_height  = self.Height(root.right)\n",
    "            dia_left  = self.Diameter(root.left)\n",
    "            dia_right = self.Diameter(root.left)\n",
    "            return max(l_height+ r_height+ 1 ,dia_left , dia_right  )\n",
    "        \n",
    "    def Mirror_image(self , root):\n",
    "        if root is None:\n",
    "            return\n",
    "        else :\n",
    "            self.Mirror_image(root.left)\n",
    "            self.Mirror_image(root.right)\n",
    "            root.right , root.left = root.left , root.right\n",
    "            \n",
    "        \n",
    "            "
   ]
  },
  {
   "cell_type": "code",
   "execution_count": 21,
   "metadata": {},
   "outputs": [],
   "source": [
    "bt = BinaryTree(1)\n",
    "bt.root.left  =  Node(2)\n",
    "bt.root.right =  Node(3)\n",
    "bt.root.left.left   = Node(4)\n",
    "bt.root.left.right  = Node(5)\n",
    "bt.root.right.left  = Node(6)\n",
    "bt.root.right.right = Node(7)"
   ]
  },
  {
   "cell_type": "code",
   "execution_count": null,
   "metadata": {},
   "outputs": [],
   "source": [
    "#          1\n",
    "#       /     \\\n",
    "#     2        3\n",
    "#   /   \\    /   \\\n",
    "#  4    5   6    7\n",
    "\n",
    "\n",
    "#          1\n",
    "#       /     \\\n",
    "#     3        2\n",
    "#   /   \\    /   \\\n",
    "#  7    6   5    4"
   ]
  },
  {
   "cell_type": "code",
   "execution_count": 22,
   "metadata": {},
   "outputs": [
    {
     "data": {
      "text/plain": [
       "'1-2-4-5-3-6-7-'"
      ]
     },
     "execution_count": 22,
     "metadata": {},
     "output_type": "execute_result"
    }
   ],
   "source": [
    "bt.Pre_oredr_Traversal(bt.root , res = \"\")"
   ]
  },
  {
   "cell_type": "code",
   "execution_count": 23,
   "metadata": {},
   "outputs": [],
   "source": [
    "bt.Mirror_image(bt.root)"
   ]
  },
  {
   "cell_type": "code",
   "execution_count": 24,
   "metadata": {},
   "outputs": [
    {
     "data": {
      "text/plain": [
       "'1-3-7-6-2-5-4-'"
      ]
     },
     "execution_count": 24,
     "metadata": {},
     "output_type": "execute_result"
    }
   ],
   "source": [
    "bt.Pre_oredr_Traversal(bt.root , res = \"\")"
   ]
  },
  {
   "cell_type": "code",
   "execution_count": 8,
   "metadata": {},
   "outputs": [
    {
     "data": {
      "text/plain": [
       "3"
      ]
     },
     "execution_count": 8,
     "metadata": {},
     "output_type": "execute_result"
    }
   ],
   "source": [
    "bt.Height(bt.root)"
   ]
  },
  {
   "cell_type": "code",
   "execution_count": 11,
   "metadata": {},
   "outputs": [
    {
     "data": {
      "text/plain": [
       "5"
      ]
     },
     "execution_count": 11,
     "metadata": {},
     "output_type": "execute_result"
    }
   ],
   "source": [
    "bt.Diameter(bt.root)"
   ]
  },
  {
   "cell_type": "code",
   "execution_count": null,
   "metadata": {},
   "outputs": [],
   "source": []
  }
 ],
 "metadata": {
  "kernelspec": {
   "display_name": "Python 3",
   "language": "python",
   "name": "python3"
  },
  "language_info": {
   "codemirror_mode": {
    "name": "ipython",
    "version": 3
   },
   "file_extension": ".py",
   "mimetype": "text/x-python",
   "name": "python",
   "nbconvert_exporter": "python",
   "pygments_lexer": "ipython3",
   "version": "3.6.9"
  }
 },
 "nbformat": 4,
 "nbformat_minor": 4
}
