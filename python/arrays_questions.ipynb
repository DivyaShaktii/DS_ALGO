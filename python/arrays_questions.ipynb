{
 "cells": [
  {
   "cell_type": "markdown",
   "metadata": {},
   "source": [
    "Q1.  Write a program to reverse an array. \n",
    "\n",
    "    Input  : arr[] = {1, 2, 3}\n",
    "    Output : arr[] = {3, 2, 1}\n",
    "\n",
    "    Input :  arr[] = {4, 5, 1, 2}\n",
    "    Output : arr[] = {2, 1, 5, 4}"
   ]
  },
  {
   "cell_type": "code",
   "execution_count": 7,
   "metadata": {},
   "outputs": [],
   "source": [
    "def reverse(array):\n",
    "    start , end = 0 , len(array)-1\n",
    "    while start < end :\n",
    "        array[start] , array[end] = array[end] , array[start]\n",
    "        start = start + 1\n",
    "        end   = end  - 1 \n",
    "    return array"
   ]
  },
  {
   "cell_type": "code",
   "execution_count": null,
   "metadata": {},
   "outputs": [],
   "source": []
  },
  {
   "cell_type": "markdown",
   "metadata": {},
   "source": [
    "Q2. Find maximum and minimum element of an array. "
   ]
  },
  {
   "cell_type": "code",
   "execution_count": 7,
   "metadata": {},
   "outputs": [],
   "source": [
    "def get_max_min(array):\n",
    "    min_ = array[0]\n",
    "    max_ = array[0]\n",
    "    if len(array) ==1 :\n",
    "        return min_ , max_\n",
    "    else:\n",
    "        for i in range(1 ,len(array) ):\n",
    "            if array[i] < min_:\n",
    "                min_ = array[i]\n",
    "            if array[i] > max_ :\n",
    "                max_ = array[i]\n",
    "        return min_ , max_"
   ]
  },
  {
   "cell_type": "markdown",
   "metadata": {},
   "source": [
    "Q3. Find Kth smallest element of an Array."
   ]
  },
  {
   "cell_type": "code",
   "execution_count": null,
   "metadata": {},
   "outputs": [],
   "source": []
  },
  {
   "cell_type": "code",
   "execution_count": null,
   "metadata": {},
   "outputs": [],
   "source": []
  },
  {
   "cell_type": "code",
   "execution_count": null,
   "metadata": {},
   "outputs": [],
   "source": []
  },
  {
   "cell_type": "raw",
   "metadata": {},
   "source": [
    "Q4. Given array which consists only 0,1,2. Sort the array without using any Sorting algorithm.\n",
    "Input : [0, 1, 2, 2, 1, 2, 0, 0, 1, 0, 2, 1, 1, 1, 0, 2, 0, 0, 1, 2]\n",
    "Output: [0, 0, 0, 0, 0, 0, 0, 1, 1, 1, 1, 1, 1, 1, 2, 2, 2, 2, 2, 2]"
   ]
  },
  {
   "cell_type": "code",
   "execution_count": 9,
   "metadata": {},
   "outputs": [],
   "source": [
    "def sort012(array):\n",
    "    size = len(array)\n",
    "    low = 0\n",
    "    once = 0\n",
    "    high = size-1\n",
    "    while once <= high :\n",
    "        if array[once] == 0:\n",
    "            array[low] , array[once] =  array[once] , array[low]\n",
    "            low = low +1\n",
    "            once = once + 1\n",
    "        elif array[once] == 1:\n",
    "            once = once + 1\n",
    "        else :\n",
    "            array[once] , array[high] = array[high]  , array[once]\n",
    "            high = high-1\n",
    "    return array\n",
    "            "
   ]
  },
  {
   "cell_type": "code",
   "execution_count": null,
   "metadata": {},
   "outputs": [],
   "source": []
  },
  {
   "cell_type": "raw",
   "metadata": {},
   "source": [
    "Q5. Move all negative elements to one side of the array.\n",
    "\n",
    "Input:  -12, 11, -13, -5, 6, -7, 5, -3, -6\n",
    "Output: -12, -13, -5, -7, -3, -6, 11, 6, 5"
   ]
  },
  {
   "cell_type": "code",
   "execution_count": 7,
   "metadata": {},
   "outputs": [],
   "source": [
    "def rearrange(array):\n",
    "    j = 0\n",
    "    for i in range(len(array)):\n",
    "        if array[i] < 0 :\n",
    "            array[i] , array[j] = array[j] , array[i]\n",
    "            j = j+1\n",
    "    return array"
   ]
  },
  {
   "cell_type": "raw",
   "metadata": {},
   "source": [
    "Q6. find union and intersection of two sorted array.\n",
    "\n",
    "Input : arr1[] = {1, 3, 4, 5, 7}\n",
    "        arr2[] = {2, 3, 5, 6} \n",
    "Output : Union : {1, 2, 3, 4, 5, 6, 7} \n",
    "         Intersection : {3, 5}"
   ]
  },
  {
   "cell_type": "code",
   "execution_count": 3,
   "metadata": {},
   "outputs": [],
   "source": [
    "def unioun_intersection(array1 , array2):\n",
    "    \n",
    "    \"\"\" SOLUTION 1\n",
    "    This solution does not handle duplicates in array \"\"\"\n",
    "    union = []\n",
    "    intersection = []\n",
    "    i , j = 0,0\n",
    "    while ((i < len(array1)) & (j < len(array2))):\n",
    "        if array1[i] < array2[j]:\n",
    "            union.append(array1[i])\n",
    "            i += 1\n",
    "        elif array2[j] < array1[i]:\n",
    "            union.append(array2[j])\n",
    "            j += 1\n",
    "        else :\n",
    "            intersection.append(array1[i])\n",
    "            union.append(array1[i])\n",
    "            i += 1\n",
    "            j += 1\n",
    "    while i < len(array1):\n",
    "        union.append(array1[i])\n",
    "        i += 1\n",
    "    while j < len(array2):\n",
    "        union.append(array2[j])\n",
    "        j += 1\n",
    "        \n",
    "    return union , intersection"
   ]
  },
  {
   "cell_type": "code",
   "execution_count": 4,
   "metadata": {},
   "outputs": [
    {
     "data": {
      "text/plain": [
       "([1, 2, 3, 4, 5, 6, 7, 15, 19, 21, 21, 65], [3, 5, 19])"
      ]
     },
     "execution_count": 4,
     "metadata": {},
     "output_type": "execute_result"
    }
   ],
   "source": [
    "arr1 = [1, 3, 4, 5, 7 , 19 , 21 ,21, 65]\n",
    "arr2 = [2, 3, 5, 6  , 15,19]\n",
    "unioun_intersection(arr1 , arr2)"
   ]
  },
  {
   "cell_type": "raw",
   "metadata": {},
   "source": [
    "Q7. Write a program to cyclically rotate an array by one.\n",
    "Input : [2, 5, 8, 30, 98, 28]\n",
    "Output: [28, 2, 5, 8, 30, 98]"
   ]
  },
  {
   "cell_type": "code",
   "execution_count": 16,
   "metadata": {},
   "outputs": [],
   "source": [
    "def rotate(array):\n",
    "    n = len(array)\n",
    "    last_item = array[-1]\n",
    "    \n",
    "    for i in range(n-1 , 0 , -1):\n",
    "        array[i] = array[i-1]\n",
    "    array[0] = last_item\n",
    "    return array"
   ]
  },
  {
   "cell_type": "code",
   "execution_count": 18,
   "metadata": {},
   "outputs": [
    {
     "data": {
      "text/plain": [
       "[28, 2, 5, 8, 30, 98]"
      ]
     },
     "execution_count": 18,
     "metadata": {},
     "output_type": "execute_result"
    }
   ],
   "source": [
    "rotate()"
   ]
  },
  {
   "cell_type": "markdown",
   "metadata": {},
   "source": [
    "## MAX SUM SUB ARRAY"
   ]
  },
  {
   "cell_type": "markdown",
   "metadata": {},
   "source": [
    "Q8. Find the largest sum of contiguous Subarray. [V. imp]"
   ]
  },
  {
   "cell_type": "code",
   "execution_count": 16,
   "metadata": {},
   "outputs": [],
   "source": [
    "\n",
    "def largest_contiguous_sum(array):\n",
    "    max_end_here = 0\n",
    "    max_so_far   = 0\n",
    "    for idx ,i in enumerate(array):\n",
    "        max_end_here = max(0 ,max_end_here + i )\n",
    "        max_so_far = max(max_so_far , max_end_here)\n",
    "        print(idx , max_end_here , max_so_far)\n",
    "    return max_so_far"
   ]
  },
  {
   "cell_type": "code",
   "execution_count": 12,
   "metadata": {},
   "outputs": [],
   "source": [
    "def largest_sum_subarray(arr):\n",
    "    n = len(arr)\n",
    "    dp = [0]*(n+1)\n",
    "    for i in range(len(arr)):\n",
    "        if dp[i] + arr[i] > 0:\n",
    "            dp[i+1] = dp[i] + arr[i]\n",
    "        else :\n",
    "            dp[i+1] = 0\n",
    "  \n",
    "    return max(dp[1:])"
   ]
  },
  {
   "cell_type": "code",
   "execution_count": 11,
   "metadata": {},
   "outputs": [],
   "source": [
    "array = [ -2,4,6,-1,3,4,15,-20,35]\n",
    "#largest_sum_subarray(array)"
   ]
  },
  {
   "cell_type": "code",
   "execution_count": 12,
   "metadata": {},
   "outputs": [],
   "source": [
    "def largest_sumsubarray(array):\n",
    "    largest_sum = 0\n",
    "    sum_till_here = 0\n",
    "    for i in range(len(array)):\n",
    "        sum_till_here = max(0 ,  sum_till_here + array[i])\n",
    "        largest_sum = max(sum_till_here , largest_sum)\n",
    "    return largest_sum"
   ]
  },
  {
   "cell_type": "code",
   "execution_count": 13,
   "metadata": {},
   "outputs": [
    {
     "data": {
      "text/plain": [
       "46"
      ]
     },
     "execution_count": 13,
     "metadata": {},
     "output_type": "execute_result"
    }
   ],
   "source": [
    "largest_sumsubarray(array)"
   ]
  },
  {
   "cell_type": "code",
   "execution_count": 14,
   "metadata": {},
   "outputs": [
    {
     "data": {
      "text/plain": [
       "31"
      ]
     },
     "execution_count": 14,
     "metadata": {},
     "output_type": "execute_result"
    }
   ],
   "source": [
    "sum([4,6,-1,3,4,15])"
   ]
  },
  {
   "cell_type": "code",
   "execution_count": 4,
   "metadata": {},
   "outputs": [],
   "source": [
    "def maxSubArraySum(array): \n",
    "    size = len(array)\n",
    "    max_so_far = -9*10e10\n",
    "    max_ending_here = 0\n",
    "    start = 0\n",
    "    end = 0\n",
    "    s = 0\n",
    "  \n",
    "    for i in range(0,size): \n",
    "  \n",
    "        max_ending_here += array[i] \n",
    "  \n",
    "        if max_so_far < max_ending_here: \n",
    "            max_so_far = max_ending_here \n",
    "            start = s \n",
    "            end = i \n",
    "  \n",
    "        if max_ending_here < 0: \n",
    "            max_ending_here = 0\n",
    "            s = i+1\n",
    "  \n",
    "    print (\"Maximum contiguous sum is %d\"%(max_so_far)) \n",
    "    print (\"Starting Index %d\"%(start)) \n",
    "    print (\"Ending Index %d\"%(end)) \n",
    "    return"
   ]
  },
  {
   "cell_type": "code",
   "execution_count": 6,
   "metadata": {},
   "outputs": [
    {
     "name": "stdout",
     "output_type": "stream",
     "text": [
      "Maximum contiguous sum is 7\n",
      "Starting Index 2\n",
      "Ending Index 6\n"
     ]
    }
   ],
   "source": [
    "array = [-2, -3, 4, -1, -2, 1, 5, -2 ]\n",
    "maxSubArraySum(array)"
   ]
  },
  {
   "cell_type": "code",
   "execution_count": null,
   "metadata": {},
   "outputs": [],
   "source": []
  },
  {
   "cell_type": "markdown",
   "metadata": {},
   "source": [
    "Q9. Given an array arr[] denoting heights of N towers and a positive integer K,  you have to modify the height of \n",
    "   each tower either by increasing or decreasing them by K only once. After modifying, height should be a non-negative integer.\n",
    "   Find out what could be the possible minimum difference of the height of shortest and longest towers after you have modified\n",
    "   each tower.\n",
    "    \n",
    "    Explaination\n",
    "    \n",
    "    Input:\n",
    "    K = 3, N = 5\n",
    "    Arr[] = {3, 9, 12, 16, 20}\n",
    "    Output: 11\n",
    "    Explanation: The array can be modified as\n",
    "    {6, 12, 9, 13, 17}. The difference between \n",
    "    the largest and the smallest is 17-6 = 11. "
   ]
  },
  {
   "cell_type": "code",
   "execution_count": null,
   "metadata": {},
   "outputs": [],
   "source": []
  },
  {
   "cell_type": "markdown",
   "metadata": {},
   "source": [
    "Q10. Given an array of integers where each element represents the max number of steps that can be made forward from that \n",
    "element. Find the minimum number of jumps to reach the end of the array (starting from the first element). \n",
    "If an element is 0, then you cannot move through that element.\n",
    "\n",
    "Example 1:\n",
    "\n",
    "Input:   N=11   arr=[1, 3 ,5, 8 ,9 ,2, 6, 7, 6, 8, 9] \n",
    "    \n",
    "Output: 3 \n",
    "    \n",
    "Explanation: \n",
    "    \n",
    "First jump from 1st element to 2nd \n",
    "element with value 3. Now, from here \n",
    "we jump to 5th element with value 9, \n",
    "and from here we will jump to last."
   ]
  },
  {
   "cell_type": "code",
   "execution_count": 93,
   "metadata": {},
   "outputs": [],
   "source": [
    "def countSetBits(n): \n",
    "    count = 0\n",
    "    while (n): \n",
    "        count += n & 1\n",
    "        n >>= 1\n",
    "    return count \n",
    "  "
   ]
  },
  {
   "cell_type": "code",
   "execution_count": 98,
   "metadata": {},
   "outputs": [
    {
     "data": {
      "text/plain": [
       "(2, 3)"
      ]
     },
     "execution_count": 98,
     "metadata": {},
     "output_type": "execute_result"
    }
   ],
   "source": [
    "i = 19\n",
    "csb(i) , countSetBits(i)"
   ]
  },
  {
   "cell_type": "code",
   "execution_count": null,
   "metadata": {},
   "outputs": [],
   "source": []
  },
  {
   "cell_type": "code",
   "execution_count": 108,
   "metadata": {},
   "outputs": [],
   "source": [
    "def UniqueNumbers2(arr , n):\n",
    "    sums  = 0 \n",
    "   \n",
    "    for i in range(0, n):\n",
    "        sums = (sums ^ arr[i])\n",
    "    sums = (sums & -sums)\n",
    "    sum1 = 0\n",
    "    sum2 = 0\n",
    " \n",
    "    for i in range(0, len(arr)):\n",
    "        if (arr[i] & sums) > 0:\n",
    "            sum1 = (sum1 ^ arr[i])\n",
    "        else:\n",
    "            sum2 = (sum2 ^ arr[i])\n",
    "    return sorted([sum1, sum2])"
   ]
  },
  {
   "cell_type": "code",
   "execution_count": 109,
   "metadata": {},
   "outputs": [
    {
     "data": {
      "text/plain": [
       "[0, 8]"
      ]
     },
     "execution_count": 109,
     "metadata": {},
     "output_type": "execute_result"
    }
   ],
   "source": [
    "UniqueNumbers2([0,1,2,3,5,6,7,1,2,3,4,5,6,7,8])"
   ]
  },
  {
   "cell_type": "code",
   "execution_count": null,
   "metadata": {},
   "outputs": [],
   "source": []
  },
  {
   "cell_type": "code",
   "execution_count": null,
   "metadata": {},
   "outputs": [],
   "source": [
    "#Q Max area rectangle in histogram histogram.\n",
    "#Input [6, 2, 5, 4, 5, 1, 6]. \n",
    "# output : 12\n",
    "# Explaination "
   ]
  },
  {
   "cell_type": "code",
   "execution_count": 4,
   "metadata": {},
   "outputs": [
    {
     "name": "stdout",
     "output_type": "stream",
     "text": [
      "Maximum area is 10\n"
     ]
    }
   ],
   "source": [
    "def largest_area_rectangle(array):\n",
    "    p_stack = []\n",
    "    h_stack = []\n",
    "    array.append(0)\n",
    "    max_area = 0\n",
    "    \n",
    "    for i in range(len(array)):\n",
    "        last_width = 9999\n",
    "        while h_stack and h_stack[-1] > array[i]:\n",
    "            last_width = p_stack[-1]\n",
    "            curr_area  = (i- p_stack.pop())*h_stack.pop()\n",
    "            max_area   = max(max_area , curr_area)\n",
    "            \n",
    "        if not h_stack or h_stack[-1] < array[i]:\n",
    "            h_stack.append(array[i])\n",
    "            p_stack.append(min(i, last_width))\n",
    "    return max_area\n",
    "\n",
    "# Driver Code \n",
    "hist = [6, 2, 5, 2, 5, 1, 6] \n",
    "print(\"Maximum area is\", largest_area_rectangle(hist))"
   ]
  },
  {
   "cell_type": "code",
   "execution_count": 27,
   "metadata": {},
   "outputs": [
    {
     "data": {
      "text/plain": [
       "7122"
      ]
     },
     "execution_count": 27,
     "metadata": {},
     "output_type": "execute_result"
    }
   ],
   "source": []
  },
  {
   "cell_type": "code",
   "execution_count": null,
   "metadata": {},
   "outputs": [],
   "source": [
    "[6 , 2, 5, 2, 4,1,6]"
   ]
  },
  {
   "cell_type": "code",
   "execution_count": null,
   "metadata": {},
   "outputs": [],
   "source": [
    "def find_max_area_histogram(array):\n",
    "    index_stack = []\n",
    "    height_stack = []\n",
    "    for i in range(len(array)):\n",
    "        if not height_stack or height_stack[-1]< array[i]:\n",
    "            index_stack.append(i)\n",
    "            height_stack.append(array[i])\n",
    "        \n",
    "        while height_stack and height_stack[-1] > array[i]:\n",
    "            last_width = index_stack[-1]\n",
    "            area = height_stack.pop()\n",
    "        "
   ]
  },
  {
   "cell_type": "markdown",
   "metadata": {},
   "source": [
    "## SORTING AN ARRAY"
   ]
  },
  {
   "cell_type": "code",
   "execution_count": null,
   "metadata": {},
   "outputs": [],
   "source": [
    "## Bubble_Sort \n",
    "## larger elements will bubble up\n",
    "def Bubble_sort(array):\n",
    "    array_len = len(array)\n",
    "    \n",
    "    for i in range(array_len):\n",
    "        swap = False\n",
    "        for j in range(array_len-i-1):\n",
    "            if array[j+1]< array[j] :\n",
    "                array[j+1] , array[j] =array[j]  , array[j+1]\n",
    "                swap = True\n",
    "        if swap == False:\n",
    "            return array\n",
    "        print(array)\n",
    "    return array\n",
    "                \n",
    "            "
   ]
  },
  {
   "cell_type": "code",
   "execution_count": null,
   "metadata": {},
   "outputs": [],
   "source": []
  },
  {
   "cell_type": "code",
   "execution_count": 15,
   "metadata": {},
   "outputs": [],
   "source": [
    "\n",
    "def merge_sort(array):\n",
    "    \n",
    "    if len(array) <2 :\n",
    "        return array\n",
    "    \n",
    "    end = array.pop()\n",
    "    left = right = []\n",
    "    for ele in array:\n",
    "        if ele > end:\n",
    "            right.append(ele)\n",
    "        else :\n",
    "            left.append(ele)\n",
    "    \n",
    "    return array"
   ]
  },
  {
   "cell_type": "code",
   "execution_count": 16,
   "metadata": {},
   "outputs": [
    {
     "data": {
      "text/plain": [
       "[-5, 0, 2, 3, 4, 7, 8, 9, 10]"
      ]
     },
     "execution_count": 16,
     "metadata": {},
     "output_type": "execute_result"
    }
   ],
   "source": [
    "insertion_sort([4,2,0,7,9,10,3,-5,8])"
   ]
  },
  {
   "cell_type": "code",
   "execution_count": null,
   "metadata": {},
   "outputs": [],
   "source": [
    "## Selection Sort\n",
    "# assign first element as small and then replace it with element which is smaller than small\n",
    "\n",
    "def Selection_Sort(array):\n",
    "    for i in range(len(array)-1):\n",
    "        small = array[i]\n",
    "        for j in range(i+1 , len(array)):\n",
    "            if array[j]< small :\n",
    "                small = array[j]\n",
    "                array[i] , array[j] = array[j] , array[i]\n",
    "    return array\n",
    "\n",
    "#Selection_Sort([4,1,0,7,3,9,2])\n",
    "#[0, 1, 2, 3, 4, 7, 9]"
   ]
  },
  {
   "cell_type": "code",
   "execution_count": null,
   "metadata": {},
   "outputs": [],
   "source": [
    "## Insertion Sort\n",
    "##keep array sorted till the pointer value( start pointer from 1  sort till 1  increment \n",
    "## pointer by one sort till current pointer val aganin increase pointer by one and so on)\n",
    "def Insertion_sort(array):\n",
    "    for i in range(1, len(array)):\n",
    "        print(array)\n",
    "        while (array[i-1]> array[i]) & (i >0):\n",
    "            array[i] , array[i-1] =  array[i-1] , array[i]\n",
    "            i = i-1\n",
    "    \n",
    "    return array"
   ]
  },
  {
   "cell_type": "code",
   "execution_count": 59,
   "metadata": {},
   "outputs": [],
   "source": [
    "# Quick Sort\n",
    "\n",
    "def Quick_Sort(array):\n",
    "    if len(array) <= 1 :\n",
    "        return array\n",
    "    else :\n",
    "        pivot = array.pop()\n",
    "        left = []\n",
    "        right = []\n",
    "        for element in array :\n",
    "            if element > pivot:\n",
    "                right.append(element)\n",
    "            else :\n",
    "                left.append(element)\n",
    "    return Quick_Sort(left) + [pivot] + Quick_Sort(right)"
   ]
  },
  {
   "cell_type": "code",
   "execution_count": null,
   "metadata": {},
   "outputs": [],
   "source": []
  },
  {
   "cell_type": "code",
   "execution_count": 6,
   "metadata": {},
   "outputs": [],
   "source": [
    "def quick_sort(array):\n",
    "    if len(array) <= 1 :\n",
    "        return array\n",
    "    pivot = array.pop()\n",
    "    left = []\n",
    "    right = []\n",
    "    for i in array :\n",
    "        if i>= pivot:\n",
    "            right.append(i)\n",
    "        else:\n",
    "            left.append(i)\n",
    "    return quick_sort(left) + [pivot] + quick_sort(right)"
   ]
  },
  {
   "cell_type": "code",
   "execution_count": 7,
   "metadata": {},
   "outputs": [
    {
     "data": {
      "text/plain": [
       "[-20, -7, 1, 1, 4, 8, 9, 33]"
      ]
     },
     "execution_count": 7,
     "metadata": {},
     "output_type": "execute_result"
    }
   ],
   "source": [
    "quick_sort([8,-7, 4,1,33,9,1, -20])"
   ]
  },
  {
   "cell_type": "code",
   "execution_count": null,
   "metadata": {},
   "outputs": [],
   "source": []
  },
  {
   "cell_type": "code",
   "execution_count": 19,
   "metadata": {},
   "outputs": [
    {
     "data": {
      "text/plain": [
       "[-1, 1, 2, 3, 7, 8, 9, 10, 33, 55, 88, 99]"
      ]
     },
     "execution_count": 19,
     "metadata": {},
     "output_type": "execute_result"
    }
   ],
   "source": [
    "merge_sort([2,1,7,3,9,10,-1,99,33,55,8,88])"
   ]
  },
  {
   "cell_type": "code",
   "execution_count": 18,
   "metadata": {},
   "outputs": [],
   "source": [
    "# Merge Sort\n",
    "def merge(left , right):\n",
    "    res = []\n",
    "    i = j = 0\n",
    "    while (i < len(left)) & (j <len(right)):\n",
    "        if (left[i] < right[j]):\n",
    "            res.append(left[i])\n",
    "            i = i+1\n",
    "        else :\n",
    "            res.append(right[j])\n",
    "            j = j+1\n",
    "    return res + left[i:] + right[j:]\n",
    "\n",
    "def merge_sort(array):\n",
    "    \n",
    "    if len(array)== 1 :\n",
    "        return array\n",
    "    else :\n",
    "        mid = len(array)// 2\n",
    "        left , right = array[:mid] , array[mid:]\n",
    "        return merge(merge_sort(left) , merge_sort(right))"
   ]
  },
  {
   "cell_type": "code",
   "execution_count": 4,
   "metadata": {},
   "outputs": [],
   "source": []
  },
  {
   "cell_type": "code",
   "execution_count": 52,
   "metadata": {},
   "outputs": [],
   "source": [
    "# In a sorted array find two no's whose sum is equal to given target  else return false\n",
    "def find_pair(array , target):\n",
    "    result = False\n",
    "    start = 0 \n",
    "    end = len(array)-1\n",
    "    while  start < end: \n",
    "#         print(start , end , array[start] , array[end])\n",
    "        if (array[start] + array[end])> target:\n",
    "            end = end-1\n",
    "        elif (array[start] + array[end]) < target:\n",
    "            start =  start + 1\n",
    "        else :\n",
    "            result = True\n",
    "            break\n",
    "    if result :\n",
    "        return start , end\n",
    "    else :\n",
    "        return False"
   ]
  },
  {
   "cell_type": "code",
   "execution_count": 54,
   "metadata": {},
   "outputs": [
    {
     "data": {
      "text/plain": [
       "(3, 4)"
      ]
     },
     "execution_count": 54,
     "metadata": {},
     "output_type": "execute_result"
    }
   ],
   "source": [
    "array = [1, 7, 8, 14, 18, 21 , 30]\n",
    "target_value = 32\n",
    "find_pair(array , target_value)\n"
   ]
  },
  {
   "cell_type": "code",
   "execution_count": 25,
   "metadata": {},
   "outputs": [],
   "source": []
  },
  {
   "cell_type": "code",
   "execution_count": 26,
   "metadata": {},
   "outputs": [
    {
     "data": {
      "text/plain": [
       "[-3, 1, 3, 7, 22, 55, 81]"
      ]
     },
     "execution_count": 26,
     "metadata": {},
     "output_type": "execute_result"
    }
   ],
   "source": [
    "merge_sort([81, 7, 55, 3, 1, 22,-3 ])"
   ]
  },
  {
   "cell_type": "code",
   "execution_count": 46,
   "metadata": {},
   "outputs": [],
   "source": [
    "void swap(int* a, int* b)\n",
    "{\n",
    "    int t = *a;\n",
    "    *a = *b;\n",
    "    *b = t;\n",
    "}\n",
    " \n",
    "int partition (int arr[], int low, int high)\n",
    "{\n",
    "    int pivot = arr[high];  \n",
    "    int i = (low - 1); \n",
    " \n",
    "    for (int j = low; j <= high- 1; j++)\n",
    "    {\n",
    "        if (arr[j] <= pivot)\n",
    "        {\n",
    "            i++;    #// increment index of smaller element\n",
    "            swap(&arr[i], &arr[j]);\n",
    "        }\n",
    "    }\n",
    "    swap(&arr[i + 1], &arr[high]);\n",
    "    return (i + 1);\n",
    "}\n",
    " \n",
    "void quickSort(int arr[], int low, int high)\n",
    "{\n",
    "    if (low < high)\n",
    "    {\n",
    "        int pi = partition(arr, low, high);\n",
    "        quickSort(arr, low, pi - 1);\n",
    "        quickSort(arr, pi + 1, high);\n",
    "    }\n",
    "}\n",
    " \n",
    "# /* Function to print an array */\n",
    "void printArray(int arr[], int size)\n",
    "{\n",
    "    int i;\n",
    "    for (i=0; i < size; i++)\n",
    "        printf(\"%d \", arr[i]);1\n",
    "    printf(\"\\n\");\n",
    "}\n",
    " \n",
    "#// Driver program to test above functions\n",
    "int main()\n",
    "{\n",
    "    int arr[] = {10, 7, 8, 9, 1, 5};\n",
    "    int n = sizeof(arr)/sizeof(arr[0]);\n",
    "    quickSort(arr, 0, n-1);\n",
    "    printf(\"Sorted array: \\n\");\n",
    "    printArray(arr, n);\n",
    "    return 0;\n",
    "}"
   ]
  },
  {
   "cell_type": "code",
   "execution_count": null,
   "metadata": {},
   "outputs": [],
   "source": [
    "void swap(int array[] , int i , int j)\n",
    "{\n",
    "    int temp = array[i];\n",
    "    array[i] = array[j];\n",
    "    array[j] = temp ;\n",
    "\n",
    "}\n",
    "\n",
    "int partition(int array[] , int start , int end)\n",
    "{\n",
    "    int pivot = array[end];\n",
    "    int i = start -1 ;\n",
    "    for(int j= start ;j<end ;j++ )\n",
    "    {\n",
    "        if(array[j]<pivot)\n",
    "        {\n",
    "            i++;\n",
    "            swap(array , i, j);\n",
    "        }\n",
    "    }\n",
    "    swap(array , i+1 , end);\n",
    "    return i+1 ;\n",
    "}\n",
    "\n",
    "\n",
    "void Quick_sort(int array[] , int start ,int end)\n",
    "{\n",
    "    if(start > end)\n",
    "    {\n",
    "        int p = partition(array , start , end) ;\n",
    "        Quick_sort(array , start , p-1);\n",
    "        Quick_sort(array , p+1 , end);\n",
    "\n",
    "    }\n",
    "    \n",
    "}\n",
    "\n",
    "int main()\n",
    "{\n",
    "    int arr[] = { 9 ,85 , -20 , 22,1, 19,3 ,-4 ,67,32 ,-2};\n",
    "    int n = sizeof(arr) / sizeof(arr[0]);\n",
    "    printarray(arr , n);\n",
    "    Quick_sort(arr ,0 ,  n-1);\n",
    "    printarray(arr , n);\n",
    "\n",
    "\n",
    "}"
   ]
  },
  {
   "cell_type": "code",
   "execution_count": null,
   "metadata": {},
   "outputs": [],
   "source": []
  },
  {
   "cell_type": "code",
   "execution_count": null,
   "metadata": {},
   "outputs": [],
   "source": []
  }
 ],
 "metadata": {
  "kernelspec": {
   "display_name": "Python 3",
   "language": "python",
   "name": "python3"
  },
  "language_info": {
   "codemirror_mode": {
    "name": "ipython",
    "version": 3
   },
   "file_extension": ".py",
   "mimetype": "text/x-python",
   "name": "python",
   "nbconvert_exporter": "python",
   "pygments_lexer": "ipython3",
   "version": "3.6.9"
  }
 },
 "nbformat": 4,
 "nbformat_minor": 2
}
